{
 "cells": [
  {
   "cell_type": "markdown",
   "metadata": {},
   "source": [
    "This program gives an output of a random monster with a Challenge Rating between x and y (which are user inputs)."
   ]
  },
  {
   "cell_type": "code",
   "execution_count": 46,
   "metadata": {},
   "outputs": [
    {
     "name": "stdout",
     "output_type": "stream",
     "text": [
      "[('Aboleth', 10), ('Acolyte', 0.25), ('Adult Black Dragon', 14), ('Adult Blue Dracolich', 17), ('Adult Blue Dragon', 16), ('Adult Brass Dragon', 13), ('Adult Bronze Dragon', 15), ('Adult Copper Dragon', 14), ('Adult Gold Dragon', 17), ('Adult Green Dragon', 15), ('Adult Red Dragon', 17), ('Adult Silver Dragon', 16), ('Adult White Dragon', 13), ('Air Elemental', 5), ('Ancient Black Dragon', 21), ('Ancient Blue Dragon', 23), ('Ancient Brass Dragon', 20), ('Ancient Bronze Dragon', 22), ('Ancient Copper Dragon', 21), ('Ancient Gold Dragon', 24), ('Ancient Green Dragon', 22), ('Ancient Red Dragon', 24), ('Ancient Silver Dragon', 23), ('Ancient White Dragon', 20), ('Androsphinx', 17), ('Animated Armor', 1), ('Ankheg', 2), ('Ape', 0.5), ('Archmage', 12), ('Assassin', 8)]\n"
     ]
    }
   ],
   "source": [
    "import requests\n",
    "import random\n",
    "import pandas as pd\n",
    "\n",
    "response = requests.get(\"http://dnd5eapi.co/api/monsters/\")\n",
    "# It's JSON data.\n",
    "data = response.json()\n",
    "results = data[\"results\"]\n",
    "\n",
    "count = 30 #data['count'] # gets the whole monster list length, which is useful later\n",
    "                               \n",
    "cr_list = [] #pre-allocate list of all challenge ratings\n",
    "names_list = [] # pre-allocate list\n",
    "\n",
    "for i in range(0, count):\n",
    "    names_i = results[i]['name']\n",
    "    names_list.append(names_i)\n",
    "    url_i = results[i]['url']\n",
    "    monster_data_raw = requests.get(url_i)\n",
    "    monster_data = monster_data_raw.json()\n",
    "    cr_list.append(monster_data[\"challenge_rating\"]) \n",
    "#now names_list and cr_list are filled with monster names and challenge ratings\n",
    "    \n",
    "print(list(zip(names_list, cr_list)))\n",
    "dd_df = pd.DataFrame.from_records(zip(names_list, cr_list))\n",
    "#This uses pandas to put names and crs into a dataframe with rows and columns\n",
    "#rows = 1, columns = 0, maybe rename the rows and columns later\n",
    "\n",
    "\n",
    "# def get_inputs():\n",
    "# #This function gets the minimum and maxium from the user and returns the resulting range\n",
    "#     min_cr = input(\"Type a minimum between 0 and 30: \")\n",
    "#     max_cr = input(\"Type a maximum between 0 and 30: \")\n",
    "#     cr_range = [int(min_cr), int(max_cr)]\n",
    "#     return cr_range\n",
    "\n",
    "# def make_list():\n",
    "# #This function returns a list of all of the monster indexes in a user-inputted range.\n",
    "# #It gets inputs, then creates an empty index list, then loops through it to find the indexes of relevant monsters\n",
    "#     cr_range = get_inputs()\n",
    "#     min_cr = cr_range[0]\n",
    "#     max_cr = cr_range[1]\n",
    "#     index_list = []\n",
    "    \n",
    "#     for i in range(0, count):\n",
    "#         temp_cr=cr_list[i]\n",
    "#         if temp_cr <= max_cr and temp_cr >= min_cr: #min and max are inclusive\n",
    "#             index_list.append(i+1)\n",
    "# #i is the monster's index number\n",
    "# #The i+1 is because the API url starts with 1 instead of 0\n",
    "#     return index_list\n",
    "\n",
    "# make_list()\n",
    "\n",
    "# def random_monster():\n",
    "# #This gets the name of a random monster within the input settings!\n",
    "#     monster_index_list = make_list()\n",
    "#     random_monster = random.choice(monster_index_list)\n",
    "# #this is a random monster index #, not yet a name or anything useful\n",
    "#     temp_data = requests.get(\"http://dnd5eapi.co/api/monsters/\"+str(random_monster))\n",
    "#     monster_data = temp_data.json()\n",
    "#     print(monster_data[\"name\"]) \n",
    "    \n",
    "# random_monster()"
   ]
  },
  {
   "cell_type": "code",
   "execution_count": 63,
   "metadata": {},
   "outputs": [
    {
     "data": {
      "text/html": [
       "<div>\n",
       "<style scoped>\n",
       "    .dataframe tbody tr th:only-of-type {\n",
       "        vertical-align: middle;\n",
       "    }\n",
       "\n",
       "    .dataframe tbody tr th {\n",
       "        vertical-align: top;\n",
       "    }\n",
       "\n",
       "    .dataframe thead th {\n",
       "        text-align: right;\n",
       "    }\n",
       "</style>\n",
       "<table border=\"1\" class=\"dataframe\">\n",
       "  <thead>\n",
       "    <tr style=\"text-align: right;\">\n",
       "      <th></th>\n",
       "      <th>0</th>\n",
       "      <th>1</th>\n",
       "    </tr>\n",
       "  </thead>\n",
       "  <tbody>\n",
       "    <tr>\n",
       "      <th>0</th>\n",
       "      <td>Aboleth</td>\n",
       "      <td>10.0</td>\n",
       "    </tr>\n",
       "    <tr>\n",
       "      <th>29</th>\n",
       "      <td>Assassin</td>\n",
       "      <td>8.0</td>\n",
       "    </tr>\n",
       "  </tbody>\n",
       "</table>\n",
       "</div>"
      ],
      "text/plain": [
       "           0     1\n",
       "0    Aboleth  10.0\n",
       "29  Assassin   8.0"
      ]
     },
     "execution_count": 63,
     "metadata": {},
     "output_type": "execute_result"
    }
   ],
   "source": [
    "min_input = 5\n",
    "max_input = 10\n",
    "dd_df[(dd_df[1]>min_input)&(dd_df[1]<=max_input)]\n"
   ]
  }
 ],
 "metadata": {
  "kernelspec": {
   "display_name": "Python 3",
   "language": "python",
   "name": "python3"
  },
  "language_info": {
   "codemirror_mode": {
    "name": "ipython",
    "version": 3
   },
   "file_extension": ".py",
   "mimetype": "text/x-python",
   "name": "python",
   "nbconvert_exporter": "python",
   "pygments_lexer": "ipython3",
   "version": "3.7.0"
  }
 },
 "nbformat": 4,
 "nbformat_minor": 2
}
