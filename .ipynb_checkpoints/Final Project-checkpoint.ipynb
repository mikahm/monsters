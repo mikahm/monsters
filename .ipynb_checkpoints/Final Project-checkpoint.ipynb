{
 "cells": [
  {
   "cell_type": "markdown",
   "metadata": {},
   "source": [
    "This program gives an output of all monsters with a Challenge Rating between x and y (which are user inputs)."
   ]
  },
  {
   "cell_type": "code",
   "execution_count": 3,
   "metadata": {},
   "outputs": [],
   "source": [
    "import requests\n",
    "import random\n",
    "import pandas as pd\n",
    "\n",
    "response = requests.get(\"http://dnd5eapi.co/api/monsters/\")\n",
    "data = response.json()\n",
    "results = data[\"results\"]\n",
    "#This block converts the API into the variable results, which spits out monsters data in JSON format\n",
    "                               \n",
    "cr_list = [] #pre-allocate list of all challenge ratings\n",
    "names_list = [] # pre-allocate list\n",
    "count = 20 #data['count'] # gets the whole monster list length\n",
    "\n",
    "#This whole for loop \n",
    "for i in range(0, count):\n",
    "    names_i = results[i]['name']\n",
    "    names_list.append(names_i)\n",
    "    url_i = results[i]['url']\n",
    "    monster_data_raw = requests.get(url_i)\n",
    "    monster_data = monster_data_raw.json()\n",
    "    cr_list.append(monster_data[\"challenge_rating\"]) \n",
    "#now names_list and cr_list are filled with monster names and challenge ratings\n",
    "    \n",
    "# print(list(zip(names_list, cr_list)))\n",
    "dd_df = pd.DataFrame.from_records(zip(names_list, cr_list))\n",
    "#This uses pandas to put names and crs into a dataframe with rows and columns\n",
    "#rows = 1, columns = 0, maybe rename the rows and columns later"
   ]
  },
  {
   "cell_type": "code",
   "execution_count": 18,
   "metadata": {},
   "outputs": [
    {
     "name": "stdout",
     "output_type": "stream",
     "text": [
      "Type a minimum between 0 and 30: 0\n",
      "Type a maximum between 0 and 30: 1\n"
     ]
    },
    {
     "data": {
      "text/html": [
       "<div>\n",
       "<style scoped>\n",
       "    .dataframe tbody tr th:only-of-type {\n",
       "        vertical-align: middle;\n",
       "    }\n",
       "\n",
       "    .dataframe tbody tr th {\n",
       "        vertical-align: top;\n",
       "    }\n",
       "\n",
       "    .dataframe thead th {\n",
       "        text-align: right;\n",
       "    }\n",
       "</style>\n",
       "<table border=\"1\" class=\"dataframe\">\n",
       "  <thead>\n",
       "    <tr style=\"text-align: right;\">\n",
       "      <th></th>\n",
       "      <th>0</th>\n",
       "      <th>1</th>\n",
       "    </tr>\n",
       "  </thead>\n",
       "  <tbody>\n",
       "    <tr>\n",
       "      <th>1</th>\n",
       "      <td>Acolyte</td>\n",
       "      <td>0.25</td>\n",
       "    </tr>\n",
       "  </tbody>\n",
       "</table>\n",
       "</div>"
      ],
      "text/plain": [
       "         0     1\n",
       "1  Acolyte  0.25"
      ]
     },
     "execution_count": 18,
     "metadata": {},
     "output_type": "execute_result"
    }
   ],
   "source": [
    "def get_inputs():\n",
    "#This function gets the minimum and maxium from the user and returns the resulting range\n",
    "    min_cr = int(input(\"Type a minimum between 0 and 30: \"))\n",
    "    max_cr = int(input(\"Type a maximum between 0 and 30: \"))\n",
    "    return (min_cr, max_cr)\n",
    "\n",
    "range_cr = get_inputs()\n",
    "min_cr = range_cr[0]\n",
    "max_cr = range_cr[1]\n",
    "dd_df[(dd_df[1]>min_cr)&(dd_df[1]<=max_cr)]"
   ]
  },
  {
   "cell_type": "code",
   "execution_count": null,
   "metadata": {},
   "outputs": [],
   "source": [
    "# def random_monster():\n",
    "# #This gets the name of a random monster within the input settings!\n",
    "#     monster_index_list = make_list()\n",
    "#     random_monster = random.choice(monster_index_list)\n",
    "# #this is a random monster index #, not yet a name or anything useful\n",
    "#     temp_data = requests.get(\"http://dnd5eapi.co/api/monsters/\"+str(random_monster))\n",
    "#     monster_data = temp_data.json()\n",
    "#     print(monster_data[\"name\"]) "
   ]
  },
  {
   "cell_type": "code",
   "execution_count": 63,
   "metadata": {},
   "outputs": [
    {
     "data": {
      "text/html": [
       "<div>\n",
       "<style scoped>\n",
       "    .dataframe tbody tr th:only-of-type {\n",
       "        vertical-align: middle;\n",
       "    }\n",
       "\n",
       "    .dataframe tbody tr th {\n",
       "        vertical-align: top;\n",
       "    }\n",
       "\n",
       "    .dataframe thead th {\n",
       "        text-align: right;\n",
       "    }\n",
       "</style>\n",
       "<table border=\"1\" class=\"dataframe\">\n",
       "  <thead>\n",
       "    <tr style=\"text-align: right;\">\n",
       "      <th></th>\n",
       "      <th>0</th>\n",
       "      <th>1</th>\n",
       "    </tr>\n",
       "  </thead>\n",
       "  <tbody>\n",
       "    <tr>\n",
       "      <th>0</th>\n",
       "      <td>Aboleth</td>\n",
       "      <td>10.0</td>\n",
       "    </tr>\n",
       "    <tr>\n",
       "      <th>29</th>\n",
       "      <td>Assassin</td>\n",
       "      <td>8.0</td>\n",
       "    </tr>\n",
       "  </tbody>\n",
       "</table>\n",
       "</div>"
      ],
      "text/plain": [
       "           0     1\n",
       "0    Aboleth  10.0\n",
       "29  Assassin   8.0"
      ]
     },
     "execution_count": 63,
     "metadata": {},
     "output_type": "execute_result"
    }
   ],
   "source": [
    "\n"
   ]
  }
 ],
 "metadata": {
  "kernelspec": {
   "display_name": "Python 3",
   "language": "python",
   "name": "python3"
  },
  "language_info": {
   "codemirror_mode": {
    "name": "ipython",
    "version": 3
   },
   "file_extension": ".py",
   "mimetype": "text/x-python",
   "name": "python",
   "nbconvert_exporter": "python",
   "pygments_lexer": "ipython3",
   "version": "3.7.0"
  }
 },
 "nbformat": 4,
 "nbformat_minor": 2
}
