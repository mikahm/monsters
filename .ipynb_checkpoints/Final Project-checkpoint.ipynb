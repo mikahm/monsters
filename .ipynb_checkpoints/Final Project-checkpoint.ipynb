{
 "cells": [
  {
   "cell_type": "markdown",
   "metadata": {},
   "source": [
    "This program gives an output of a random monster with a Challenge Rating between x and y (which are user inputs)."
   ]
  },
  {
   "cell_type": "code",
   "execution_count": 28,
   "metadata": {},
   "outputs": [
    {
     "name": "stdout",
     "output_type": "stream",
     "text": [
      "['Aboleth', 'Acolyte', 'Adult Black Dragon', 'Adult Blue Dracolich', 'Adult Blue Dragon', 'Adult Brass Dragon', 'Adult Bronze Dragon', 'Adult Copper Dragon', 'Adult Gold Dragon', 'Adult Green Dragon']\n",
      "[10, 0.25, 14, 17, 16, 13, 15, 14, 17, 15]\n"
     ]
    }
   ],
   "source": [
    "import requests\n",
    "import random\n",
    "\n",
    "response = requests.get(\"http://dnd5eapi.co/api/monsters/\")\n",
    "# It's JSON data.\n",
    "data = response.json()\n",
    "results = data[\"results\"]\n",
    "\n",
    "count = data['count'] # gets the whole monster list length, which is useful later\n",
    "                               \n",
    "# cr_list = [10, 0.25, 14, 17, 16, 13, 15, 14, 17, 15, 17, 16, 13, 5, 21, 23, 20, 22, 21, 24, 22, 24, 23, 20, 17, 1, 2, 0.5, 12, 8, 0, 2, 0.25, 2, 0, 0, 19, 0.125, 2, 5, 3, 0, 3, 11, 2, 0.5, 2, 4, 0.25, 0.125, 3, 0.25, 12, 1, 2, 1, 1, 5, 0.125, 2, 0, 2, 2, 11, 6, 4, 9, 8, 9, 0.5, 0, 0.25, 1, 4, 0, 0.5, 2, 0.125, 0.5, 1, 0.5, 0, 10, 1, 11, 3, 0.25, 17, 0.25, 6, 0.25, 2, 1, 1, 0.5, 0, 5, 11, 4, 0.25, 12, 2, 4, 5, 9, 5, 0.125, 0.25, 0, 8, 2, 2, 2, 4, 1, 7, 0.25, 0.25, 2, 0.25, 2, 0.125, 5, 1, 2, 0, 0.25, 0.5, 1, 0.25, 1, 0.25, 0.25, 0.125, 0.125, 3, 0.5, 5, 1, 1, 1, 0.5, 0.125, 0.25, 2, 9, 5, 0.5, 0, 0.25, 3, 5, 0.5, 2, 3, 2, 2, 0.25, 0.125, 10, 11, 5, 1, 0, 3, 8, 5, 1, 0.5, 0, 11, 2, 8, 0, 14, 0.5, 1, 6, 16, 0, 3, 3, 0.125, 23, 4, 0, 21, 1, 0, 0.5, 6, 0.5, 0.5, 6, 3, 16, 0.125, 6, 0.125, 2, 2, 3, 2, 0.125, 3, 15, 13, 5, 3, 0.125, 2, 0, 2, 2, 7, 0.5, 5, 0, 3, 0.25, 2, 3, 20, 16, 2, 0.125, 2, 0.125, 2, 0.25, 15, 1, 0, 13, 0, 0, 4, 0.5, 11, 2, 0.25, 11, 5, 2, 0.5, 2, 0.5, 5, 0.5, 0, 0.5, 2, 0, 0.5, 5, 7, 0, 2, 0.25, 21, 1, 0, 8, 0.25, 1, 0.25, 0.125, 7, 10, 13, 4, 0.25, 0.5, 0.5, 0.5, 2, 1, 0.25, 0.25, 0.5, 0.5, 30, 0.5, 1, 9, 0.125, 5, 5, 8, 5, 13, 5, 3, 0.25, 6, 0, 0.5, 0.5, 5, 0, 5, 4, 2, 4, 3, 2, 3, 2, 3, 0.25, 0.5, 5, 6, 5, 7, 9, 6, 8, 7, 10, 8, 10, 9, 6, 0.25]  \n",
    "# #this is a hard-coded list of all the CRs I obtained from printing it out in separate code.\n",
    "\n",
    "cr_list = [] #pre-allocate list of all challenge ratings\n",
    "names_list = [] # pre-allocate list\n",
    "\n",
    "for i in range(0, 10):\n",
    "    names_i = results[i]['name']\n",
    "    names_list.append(names_i)\n",
    "    url_i = results[i]['url']\n",
    "    monster_data_raw = requests.get(url_i)\n",
    "    monster_data = monster_data_raw.json()\n",
    "    cr_list.append(monster_data[\"challenge_rating\"]) \n",
    "#now monster_list and cr_list are filled with monster names and challenge ratings\n",
    "\n",
    "print(names_list)\n",
    "print(cr_list)\n",
    "\n",
    "\n",
    "# def get_inputs():\n",
    "# #This function gets the minimum and maxium from the user and returns the resulting range\n",
    "#     min_cr = input(\"Type a minimum between 0 and 30: \")\n",
    "#     max_cr = input(\"Type a maximum between 0 and 30: \")\n",
    "#     cr_range = [int(min_cr), int(max_cr)]\n",
    "#     return cr_range\n",
    "\n",
    "\n",
    "# def random_monster():\n",
    "# #This gets the name of a random monster within the input settings!\n",
    "#     monster_index_list = make_list()\n",
    "#     random_monster = random.choice(monster_index_list)\n",
    "# #this is a random monster index #, not yet a name or anything useful\n",
    "#     temp_data = requests.get(\"http://dnd5eapi.co/api/monsters/\"+str(random_monster))\n",
    "#     monster_data = temp_data.json()\n",
    "#     print(monster_data[\"name\"]) \n",
    "    \n",
    "# random_monster()\n",
    "\n"
   ]
  },
  {
   "cell_type": "code",
   "execution_count": 26,
   "metadata": {},
   "outputs": [
    {
     "ename": "KeyboardInterrupt",
     "evalue": "",
     "output_type": "error",
     "traceback": [
      "\u001b[0;31m---------------------------------------------------------------------------\u001b[0m",
      "\u001b[0;31mKeyboardInterrupt\u001b[0m                         Traceback (most recent call last)",
      "\u001b[0;32m~/anaconda3/lib/python3.7/site-packages/ipykernel/kernelbase.py\u001b[0m in \u001b[0;36m_input_request\u001b[0;34m(self, prompt, ident, parent, password)\u001b[0m\n\u001b[1;32m    728\u001b[0m             \u001b[0;32mtry\u001b[0m\u001b[0;34m:\u001b[0m\u001b[0;34m\u001b[0m\u001b[0m\n\u001b[0;32m--> 729\u001b[0;31m                 \u001b[0mident\u001b[0m\u001b[0;34m,\u001b[0m \u001b[0mreply\u001b[0m \u001b[0;34m=\u001b[0m \u001b[0mself\u001b[0m\u001b[0;34m.\u001b[0m\u001b[0msession\u001b[0m\u001b[0;34m.\u001b[0m\u001b[0mrecv\u001b[0m\u001b[0;34m(\u001b[0m\u001b[0mself\u001b[0m\u001b[0;34m.\u001b[0m\u001b[0mstdin_socket\u001b[0m\u001b[0;34m,\u001b[0m \u001b[0;36m0\u001b[0m\u001b[0;34m)\u001b[0m\u001b[0;34m\u001b[0m\u001b[0m\n\u001b[0m\u001b[1;32m    730\u001b[0m             \u001b[0;32mexcept\u001b[0m \u001b[0mException\u001b[0m\u001b[0;34m:\u001b[0m\u001b[0;34m\u001b[0m\u001b[0m\n",
      "\u001b[0;32m~/anaconda3/lib/python3.7/site-packages/jupyter_client/session.py\u001b[0m in \u001b[0;36mrecv\u001b[0;34m(self, socket, mode, content, copy)\u001b[0m\n\u001b[1;32m    802\u001b[0m         \u001b[0;32mtry\u001b[0m\u001b[0;34m:\u001b[0m\u001b[0;34m\u001b[0m\u001b[0m\n\u001b[0;32m--> 803\u001b[0;31m             \u001b[0mmsg_list\u001b[0m \u001b[0;34m=\u001b[0m \u001b[0msocket\u001b[0m\u001b[0;34m.\u001b[0m\u001b[0mrecv_multipart\u001b[0m\u001b[0;34m(\u001b[0m\u001b[0mmode\u001b[0m\u001b[0;34m,\u001b[0m \u001b[0mcopy\u001b[0m\u001b[0;34m=\u001b[0m\u001b[0mcopy\u001b[0m\u001b[0;34m)\u001b[0m\u001b[0;34m\u001b[0m\u001b[0m\n\u001b[0m\u001b[1;32m    804\u001b[0m         \u001b[0;32mexcept\u001b[0m \u001b[0mzmq\u001b[0m\u001b[0;34m.\u001b[0m\u001b[0mZMQError\u001b[0m \u001b[0;32mas\u001b[0m \u001b[0me\u001b[0m\u001b[0;34m:\u001b[0m\u001b[0;34m\u001b[0m\u001b[0m\n",
      "\u001b[0;32m~/anaconda3/lib/python3.7/site-packages/zmq/sugar/socket.py\u001b[0m in \u001b[0;36mrecv_multipart\u001b[0;34m(self, flags, copy, track)\u001b[0m\n\u001b[1;32m    466\u001b[0m         \"\"\"\n\u001b[0;32m--> 467\u001b[0;31m         \u001b[0mparts\u001b[0m \u001b[0;34m=\u001b[0m \u001b[0;34m[\u001b[0m\u001b[0mself\u001b[0m\u001b[0;34m.\u001b[0m\u001b[0mrecv\u001b[0m\u001b[0;34m(\u001b[0m\u001b[0mflags\u001b[0m\u001b[0;34m,\u001b[0m \u001b[0mcopy\u001b[0m\u001b[0;34m=\u001b[0m\u001b[0mcopy\u001b[0m\u001b[0;34m,\u001b[0m \u001b[0mtrack\u001b[0m\u001b[0;34m=\u001b[0m\u001b[0mtrack\u001b[0m\u001b[0;34m)\u001b[0m\u001b[0;34m]\u001b[0m\u001b[0;34m\u001b[0m\u001b[0m\n\u001b[0m\u001b[1;32m    468\u001b[0m         \u001b[0;31m# have first part already, only loop while more to receive\u001b[0m\u001b[0;34m\u001b[0m\u001b[0;34m\u001b[0m\u001b[0m\n",
      "\u001b[0;32mzmq/backend/cython/socket.pyx\u001b[0m in \u001b[0;36mzmq.backend.cython.socket.Socket.recv\u001b[0;34m()\u001b[0m\n",
      "\u001b[0;32mzmq/backend/cython/socket.pyx\u001b[0m in \u001b[0;36mzmq.backend.cython.socket.Socket.recv\u001b[0;34m()\u001b[0m\n",
      "\u001b[0;32mzmq/backend/cython/socket.pyx\u001b[0m in \u001b[0;36mzmq.backend.cython.socket._recv_copy\u001b[0;34m()\u001b[0m\n",
      "\u001b[0;32m~/anaconda3/lib/python3.7/site-packages/zmq/backend/cython/checkrc.pxd\u001b[0m in \u001b[0;36mzmq.backend.cython.checkrc._check_rc\u001b[0;34m()\u001b[0m\n",
      "\u001b[0;31mKeyboardInterrupt\u001b[0m: ",
      "\nDuring handling of the above exception, another exception occurred:\n",
      "\u001b[0;31mKeyboardInterrupt\u001b[0m                         Traceback (most recent call last)",
      "\u001b[0;32m<ipython-input-26-9243a825d30d>\u001b[0m in \u001b[0;36m<module>\u001b[0;34m()\u001b[0m\n\u001b[1;32m     46\u001b[0m \u001b[0;34m\u001b[0m\u001b[0m\n\u001b[1;32m     47\u001b[0m \u001b[0;34m\u001b[0m\u001b[0m\n\u001b[0;32m---> 48\u001b[0;31m \u001b[0mmake_list\u001b[0m\u001b[0;34m(\u001b[0m\u001b[0;34m)\u001b[0m\u001b[0;34m\u001b[0m\u001b[0m\n\u001b[0m",
      "\u001b[0;32m<ipython-input-26-9243a825d30d>\u001b[0m in \u001b[0;36mmake_list\u001b[0;34m()\u001b[0m\n\u001b[1;32m     30\u001b[0m \u001b[0;31m#This function returns a list of all of the monster indexes in a user-inputted range.\u001b[0m\u001b[0;34m\u001b[0m\u001b[0;34m\u001b[0m\u001b[0m\n\u001b[1;32m     31\u001b[0m \u001b[0;31m#It gets inputs, then creates an empty index list, then loops through it to find the indexes of relevant monsters\u001b[0m\u001b[0;34m\u001b[0m\u001b[0;34m\u001b[0m\u001b[0m\n\u001b[0;32m---> 32\u001b[0;31m     \u001b[0mcr_range\u001b[0m \u001b[0;34m=\u001b[0m \u001b[0mget_inputs\u001b[0m\u001b[0;34m(\u001b[0m\u001b[0;34m)\u001b[0m\u001b[0;34m\u001b[0m\u001b[0m\n\u001b[0m\u001b[1;32m     33\u001b[0m     \u001b[0mmin_cr\u001b[0m \u001b[0;34m=\u001b[0m \u001b[0mcr_range\u001b[0m\u001b[0;34m[\u001b[0m\u001b[0;36m0\u001b[0m\u001b[0;34m]\u001b[0m\u001b[0;34m\u001b[0m\u001b[0m\n\u001b[1;32m     34\u001b[0m     \u001b[0mmax_cr\u001b[0m \u001b[0;34m=\u001b[0m \u001b[0mcr_range\u001b[0m\u001b[0;34m[\u001b[0m\u001b[0;36m1\u001b[0m\u001b[0;34m]\u001b[0m\u001b[0;34m\u001b[0m\u001b[0m\n",
      "\u001b[0;32m<ipython-input-26-9243a825d30d>\u001b[0m in \u001b[0;36mget_inputs\u001b[0;34m()\u001b[0m\n\u001b[1;32m     22\u001b[0m \u001b[0;32mdef\u001b[0m \u001b[0mget_inputs\u001b[0m\u001b[0;34m(\u001b[0m\u001b[0;34m)\u001b[0m\u001b[0;34m:\u001b[0m\u001b[0;34m\u001b[0m\u001b[0m\n\u001b[1;32m     23\u001b[0m \u001b[0;31m#This function gets the minimum and maxium from the user and returns the resulting range\u001b[0m\u001b[0;34m\u001b[0m\u001b[0;34m\u001b[0m\u001b[0m\n\u001b[0;32m---> 24\u001b[0;31m     \u001b[0mmin_cr\u001b[0m \u001b[0;34m=\u001b[0m \u001b[0minput\u001b[0m\u001b[0;34m(\u001b[0m\u001b[0;34m\"Type a minimum between 0 and 30: \"\u001b[0m\u001b[0;34m)\u001b[0m\u001b[0;34m\u001b[0m\u001b[0m\n\u001b[0m\u001b[1;32m     25\u001b[0m     \u001b[0mmax_cr\u001b[0m \u001b[0;34m=\u001b[0m \u001b[0minput\u001b[0m\u001b[0;34m(\u001b[0m\u001b[0;34m\"Type a maximum between 0 and 30: \"\u001b[0m\u001b[0;34m)\u001b[0m\u001b[0;34m\u001b[0m\u001b[0m\n\u001b[1;32m     26\u001b[0m     \u001b[0mcr_range\u001b[0m \u001b[0;34m=\u001b[0m \u001b[0;34m[\u001b[0m\u001b[0mint\u001b[0m\u001b[0;34m(\u001b[0m\u001b[0mmin_cr\u001b[0m\u001b[0;34m)\u001b[0m\u001b[0;34m,\u001b[0m \u001b[0mint\u001b[0m\u001b[0;34m(\u001b[0m\u001b[0mmax_cr\u001b[0m\u001b[0;34m)\u001b[0m\u001b[0;34m]\u001b[0m\u001b[0;34m\u001b[0m\u001b[0m\n",
      "\u001b[0;32m~/anaconda3/lib/python3.7/site-packages/ipykernel/kernelbase.py\u001b[0m in \u001b[0;36mraw_input\u001b[0;34m(self, prompt)\u001b[0m\n\u001b[1;32m    702\u001b[0m             \u001b[0mself\u001b[0m\u001b[0;34m.\u001b[0m\u001b[0m_parent_ident\u001b[0m\u001b[0;34m,\u001b[0m\u001b[0;34m\u001b[0m\u001b[0m\n\u001b[1;32m    703\u001b[0m             \u001b[0mself\u001b[0m\u001b[0;34m.\u001b[0m\u001b[0m_parent_header\u001b[0m\u001b[0;34m,\u001b[0m\u001b[0;34m\u001b[0m\u001b[0m\n\u001b[0;32m--> 704\u001b[0;31m             \u001b[0mpassword\u001b[0m\u001b[0;34m=\u001b[0m\u001b[0;32mFalse\u001b[0m\u001b[0;34m,\u001b[0m\u001b[0;34m\u001b[0m\u001b[0m\n\u001b[0m\u001b[1;32m    705\u001b[0m         )\n\u001b[1;32m    706\u001b[0m \u001b[0;34m\u001b[0m\u001b[0m\n",
      "\u001b[0;32m~/anaconda3/lib/python3.7/site-packages/ipykernel/kernelbase.py\u001b[0m in \u001b[0;36m_input_request\u001b[0;34m(self, prompt, ident, parent, password)\u001b[0m\n\u001b[1;32m    732\u001b[0m             \u001b[0;32mexcept\u001b[0m \u001b[0mKeyboardInterrupt\u001b[0m\u001b[0;34m:\u001b[0m\u001b[0;34m\u001b[0m\u001b[0m\n\u001b[1;32m    733\u001b[0m                 \u001b[0;31m# re-raise KeyboardInterrupt, to truncate traceback\u001b[0m\u001b[0;34m\u001b[0m\u001b[0;34m\u001b[0m\u001b[0m\n\u001b[0;32m--> 734\u001b[0;31m                 \u001b[0;32mraise\u001b[0m \u001b[0mKeyboardInterrupt\u001b[0m\u001b[0;34m\u001b[0m\u001b[0m\n\u001b[0m\u001b[1;32m    735\u001b[0m             \u001b[0;32melse\u001b[0m\u001b[0;34m:\u001b[0m\u001b[0;34m\u001b[0m\u001b[0m\n\u001b[1;32m    736\u001b[0m                 \u001b[0;32mbreak\u001b[0m\u001b[0;34m\u001b[0m\u001b[0m\n",
      "\u001b[0;31mKeyboardInterrupt\u001b[0m: "
     ]
    }
   ],
   "source": [
    "import requests\n",
    "import random\n",
    "\n",
    "response = requests.get(\"http://dnd5eapi.co/api/monsters/\")\n",
    "# It's JSON data.\n",
    "data = response.json()\n",
    "results = data[\"results\"]\n",
    "\n",
    "count = data['count'] # gets the whole monster list length, which is useful later\n",
    "                               \n",
    "cr_list = [] #pre-allocate list of all challenge ratings\n",
    "url_list = [] # pre-allocate list\n",
    "\n",
    "for i in range(1,3):\n",
    "    url_i = results[i]['url']\n",
    "    url_list.append(url_i)\n",
    "    monster_data_raw = requests.get(url_i)\n",
    "    monster_data = monster_data_raw.json()\n",
    "    cr_list.append(monster_data[\"challenge_rating\"]) \n",
    "# #now monster_list and cr_list are filled with monster names and challenge ratings\n",
    "\n",
    "def get_inputs():\n",
    "#This function gets the minimum and maxium from the user and returns the resulting range\n",
    "    min_cr = input(\"Type a minimum between 0 and 30: \")\n",
    "    max_cr = input(\"Type a maximum between 0 and 30: \")\n",
    "    cr_range = [int(min_cr), int(max_cr)]\n",
    "    return cr_range\n",
    "\n",
    "def make_list():\n",
    "#This function returns a list of all of the monster indexes in a user-inputted range.\n",
    "#It gets inputs, then creates an empty index list, then loops through it to find the indexes of relevant monsters\n",
    "    cr_range = get_inputs()\n",
    "    min_cr = cr_range[0]\n",
    "    max_cr = cr_range[1]\n",
    "    index_list = []\n",
    "    \n",
    "    for i in range(0, count):\n",
    "        print(i)\n",
    "#         temp_cr=cr_list[i]\n",
    "#         if temp_cr <= max_cr and temp_cr >= min_cr: #min and max are inclusive\n",
    "#             index_list.append(i+1)\n",
    "\n",
    "#i is the monster's index number\n",
    "#The i+1 is because the API url starts with 1 instead of 0\n",
    "    return index_list\n",
    "\n",
    "\n",
    "make_list()"
   ]
  },
  {
   "cell_type": "code",
   "execution_count": null,
   "metadata": {},
   "outputs": [],
   "source": []
  },
  {
   "cell_type": "code",
   "execution_count": null,
   "metadata": {},
   "outputs": [],
   "source": []
  }
 ],
 "metadata": {
  "kernelspec": {
   "display_name": "Python 3",
   "language": "python",
   "name": "python3"
  },
  "language_info": {
   "codemirror_mode": {
    "name": "ipython",
    "version": 3
   },
   "file_extension": ".py",
   "mimetype": "text/x-python",
   "name": "python",
   "nbconvert_exporter": "python",
   "pygments_lexer": "ipython3",
   "version": "3.7.0"
  }
 },
 "nbformat": 4,
 "nbformat_minor": 2
}
